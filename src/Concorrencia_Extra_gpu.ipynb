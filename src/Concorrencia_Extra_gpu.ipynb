{
 "cells": [
  {
   "cell_type": "markdown",
   "metadata": {},
   "source": [
    "# Concorrência Baseada em GPU"
   ]
  },
  {
   "cell_type": "markdown",
   "metadata": {},
   "source": [
    "A concorrência baseada em GPU refere-se ao uso de unidades de processamento gráfico (GPUs) para executar tarefas em paralelo. No contexto de MLOps, isso é frequentemente usado para treinar ou inferir modelos de aprendizado profundo, já que as GPUs são especialmente adequadas para operações matriciais intensivas comuns em redes neurais.\n",
    "\n",
    "O PyTorch é uma das bibliotecas mais populares para aprendizado profundo e tem suporte nativo para GPUs. No entanto, é importante observar que, no momento da minha última atualização (setembro de 2021), o PyTorch ainda estava em processo de adicionar suporte completo para Apple Silicon (M1). Portanto, certifique-se de ter a versão mais recente do PyTorch e de verificar a documentação oficial para obter detalhes sobre o suporte.\n",
    "\n",
    "Vamos criar um exemplo simples usando PyTorch para treinar um modelo de rede neural em um conjunto de dados sintético, demonstrando a concorrência baseada em GPU:\n"
   ]
  },
  {
   "cell_type": "code",
   "execution_count": null,
   "metadata": {},
   "outputs": [],
   "source": [
    "import torch\n",
    "import torch.nn as nn\n",
    "import torch.optim as optim\n",
    "\n",
    "# Verificar se a GPU está disponível\n",
    "device = torch.device(\"cuda\" if torch.cuda.is_available() else \"cpu\")\n",
    "print(f\"Using device: {device}\")\n",
    "\n",
    "# Gerar dados sintéticos\n",
    "n_samples = 1000\n",
    "X = torch.rand(n_samples, 1) * 10 - 5  # Valores entre -5 e 5\n",
    "y = X * 3 + torch.randn(n_samples, 1) * 0.5  # Linha reta com algum ruído\n",
    "\n",
    "# Modelo de rede neural simples\n",
    "class SimpleNN(nn.Module):\n",
    "    def __init__(self):\n",
    "        super(SimpleNN, self).__init__()\n",
    "        self.layer = nn.Linear(1, 1)\n",
    "    \n",
    "    def forward(self, x):\n",
    "        return self.layer(x)\n",
    "\n",
    "model = SimpleNN().to(device)\n",
    "criterion = nn.MSELoss()\n",
    "optimizer = optim.Adam(model.parameters(), lr=0.01)\n",
    "\n",
    "# Treinamento\n",
    "num_epochs = 500\n",
    "for epoch in range(num_epochs):\n",
    "    # Transferir dados para a GPU\n",
    "    inputs, labels = X.to(device), y.to(device)\n",
    "    \n",
    "    # Forward pass\n",
    "    outputs = model(inputs)\n",
    "    loss = criterion(outputs, labels)\n",
    "    \n",
    "    # Backward pass and optimization\n",
    "    optimizer.zero_grad()\n",
    "    loss.backward()\n",
    "    optimizer.step()\n",
    "    \n",
    "    if (epoch+1) % 100 == 0:\n",
    "        print(f\"Epoch [{epoch+1}/{num_epochs}], Loss: {loss.item():.4f}\")\n",
    "\n",
    "print(\"Training complete!\")\n"
   ]
  },
  {
   "cell_type": "markdown",
   "metadata": {},
   "source": [
    "\n",
    "Neste exemplo:\n",
    "\n",
    "- Verificamos se uma GPU está disponível usando `torch.cuda.is_available()`.\n",
    "- Geramos um conjunto de dados sintético.\n",
    "- Criamos um modelo simples de rede neural com uma única camada linear.\n",
    "- Treinamos o modelo na GPU (se disponível).\n",
    "\n",
    "Ao executar este código em um Jupyter Notebook, você verá o progresso do treinamento e, se uma GPU estiver disponível, o treinamento será acelerado por ela. Se você estiver usando Apple Silicon e não vir \"Using device: cuda\", isso significa que o PyTorch ainda não suporta totalmente a GPU no Apple Silicon ou que você precisa atualizar para uma versão mais recente do PyTorch."
   ]
  },
  {
   "cell_type": "markdown",
   "metadata": {},
   "source": []
  }
 ],
 "metadata": {
  "kernelspec": {
   "display_name": "gpuTorch",
   "language": "python",
   "name": "python3"
  },
  "language_info": {
   "name": "python",
   "version": "3.11.4"
  },
  "orig_nbformat": 4
 },
 "nbformat": 4,
 "nbformat_minor": 2
}
